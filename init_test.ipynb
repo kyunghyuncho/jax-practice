{
 "cells": [
  {
   "cell_type": "code",
   "execution_count": 1,
   "metadata": {},
   "outputs": [],
   "source": [
    "import numpy"
   ]
  },
  {
   "cell_type": "code",
   "execution_count": 2,
   "metadata": {},
   "outputs": [],
   "source": [
    "from jax import numpy as jnp\n",
    "import jax"
   ]
  },
  {
   "cell_type": "code",
   "execution_count": 3,
   "metadata": {},
   "outputs": [],
   "source": [
    "from functools import partial"
   ]
  },
  {
   "cell_type": "code",
   "execution_count": 4,
   "metadata": {},
   "outputs": [],
   "source": [
    "def func_(p, x):\n",
    "    return jnp.dot(p, x)"
   ]
  },
  {
   "cell_type": "code",
   "execution_count": 5,
   "metadata": {},
   "outputs": [],
   "source": [
    "func = jax.jit(func_)"
   ]
  },
  {
   "cell_type": "code",
   "execution_count": 6,
   "metadata": {},
   "outputs": [],
   "source": [
    "rng = jax.random.PRNGKey(1234)"
   ]
  },
  {
   "cell_type": "code",
   "execution_count": 7,
   "metadata": {},
   "outputs": [],
   "source": [
    "rng, subrng = jax.random.split(rng)\n",
    "\n",
    "w = 1. * jax.random.normal(subrng, shape=[10])"
   ]
  },
  {
   "cell_type": "code",
   "execution_count": 8,
   "metadata": {},
   "outputs": [],
   "source": [
    "gfunc = jax.grad(func)"
   ]
  },
  {
   "cell_type": "code",
   "execution_count": 9,
   "metadata": {},
   "outputs": [],
   "source": [
    "rng, subrng = jax.random.split(rng)\n",
    "\n",
    "x0 = jax.random.normal(subrng, shape=[10])"
   ]
  },
  {
   "cell_type": "code",
   "execution_count": 10,
   "metadata": {},
   "outputs": [
    {
     "name": "stdout",
     "output_type": "stream",
     "text": [
      "[ 0.24088931  0.24021123 -0.51482624  0.42441508 -0.2154683  -0.01299716\n",
      " -0.36675268 -0.10366983 -0.49625257  0.03129819]\n"
     ]
    }
   ],
   "source": [
    "gg = gfunc(w, x0)\n",
    "gg = gg / jnp.sqrt((gg ** 2).sum())\n",
    "print(gg)"
   ]
  },
  {
   "cell_type": "code",
   "execution_count": 11,
   "metadata": {},
   "outputs": [
    {
     "name": "stdout",
     "output_type": "stream",
     "text": [
      "[ 0.13608688  0.24107294 -0.5079048   0.46131107 -0.10851629 -0.07115937\n",
      " -0.37621284 -0.17281999 -0.51383805 -0.01780621]\n"
     ]
    }
   ],
   "source": [
    "rng, subrng = jax.random.split(rng)\n",
    "\n",
    "noise = jax.random.normal(subrng, shape=[125, 10]) \n",
    "noise = noise / jnp.sqrt((noise ** 2).sum(1))[:,None]\n",
    "\n",
    "hh = ((func(w[None,:] + noise, x0) - func(w, x0))[:,None] * noise).mean(0)\n",
    "\n",
    "print(hh / jnp.sqrt((hh ** 2).sum()))"
   ]
  },
  {
   "cell_type": "code",
   "execution_count": null,
   "metadata": {},
   "outputs": [],
   "source": []
  }
 ],
 "metadata": {
  "kernelspec": {
   "display_name": "Python 3",
   "language": "python",
   "name": "python3"
  },
  "language_info": {
   "codemirror_mode": {
    "name": "ipython",
    "version": 3
   },
   "file_extension": ".py",
   "mimetype": "text/x-python",
   "name": "python",
   "nbconvert_exporter": "python",
   "pygments_lexer": "ipython3",
   "version": "3.7.6"
  }
 },
 "nbformat": 4,
 "nbformat_minor": 4
}

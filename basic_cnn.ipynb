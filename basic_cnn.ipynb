{
 "cells": [
  {
   "cell_type": "code",
   "execution_count": 1,
   "metadata": {},
   "outputs": [],
   "source": [
    "import numpy"
   ]
  },
  {
   "cell_type": "code",
   "execution_count": 2,
   "metadata": {},
   "outputs": [],
   "source": [
    "from jax import random as jrng\n",
    "from jax import numpy as jnp\n",
    "import jax"
   ]
  },
  {
   "cell_type": "code",
   "execution_count": 3,
   "metadata": {},
   "outputs": [],
   "source": [
    "from functools import partial"
   ]
  },
  {
   "cell_type": "code",
   "execution_count": 4,
   "metadata": {},
   "outputs": [],
   "source": [
    "from layers import Linear, Conv2d, SpatialPool2d, ReLU, Softmax\n",
    "from model import Model\n",
    "from optimizers import SGD, Adam\n",
    "from functionals import cross_entropy, weight_decay, clip_norm\n",
    "from utils import flatten_dict, apply_dict"
   ]
  },
  {
   "cell_type": "code",
   "execution_count": 5,
   "metadata": {},
   "outputs": [],
   "source": [
    "from pl_bolts.datamodules import MNISTDataModule"
   ]
  },
  {
   "cell_type": "code",
   "execution_count": 6,
   "metadata": {},
   "outputs": [],
   "source": [
    "rng = jrng.PRNGKey(1234)"
   ]
  },
  {
   "cell_type": "code",
   "execution_count": 7,
   "metadata": {},
   "outputs": [],
   "source": [
    "mymodel = Model(rng, [Conv2d(7,7,1,256), ReLU(), \n",
    "                      Conv2d(3,3,256,256), ReLU(), \n",
    "                      SpatialPool2d(), Linear(256,10), \n",
    "                      Softmax()], \n",
    "                loss=[(cross_entropy, 1.), (weight_decay, 1e-5)])"
   ]
  },
  {
   "cell_type": "code",
   "execution_count": 8,
   "metadata": {},
   "outputs": [],
   "source": [
    "optim = Adam(mymodel, lr=1e-5)"
   ]
  },
  {
   "cell_type": "code",
   "execution_count": 9,
   "metadata": {},
   "outputs": [],
   "source": [
    "data = MNISTDataModule('./mnist/')\n",
    "data.prepare_data()"
   ]
  },
  {
   "cell_type": "code",
   "execution_count": 10,
   "metadata": {},
   "outputs": [],
   "source": [
    "train_loader = data.train_dataloader(batch_size=256)\n",
    "val_loader = data.val_dataloader(batch_size=1024)"
   ]
  },
  {
   "cell_type": "code",
   "execution_count": null,
   "metadata": {},
   "outputs": [
    {
     "name": "stderr",
     "output_type": "stream",
     "text": [
      "/home/kcho/repo/jax/jax/numpy/lax_numpy.py:1651: FutureWarning: jax.numpy reductions won't accept lists and tuples in future versions, only scalars and ndarrays\n",
      "  warnings.warn(msg, category=FutureWarning)\n"
     ]
    },
    {
     "name": "stdout",
     "output_type": "stream",
     "text": [
      "epoch 1 loss 8.0689115524292 val acc 0.401611328125\n",
      "epoch 2 loss 7.216518402099609 val acc 0.650146484375\n",
      "epoch 3 loss 6.979525566101074 val acc 0.737060546875\n",
      "epoch 4 loss 6.839572429656982 val acc 0.7783203125\n",
      "epoch 5 loss 6.732928276062012 val acc 0.81787109375\n",
      "epoch 6 loss 6.687704563140869 val acc 0.841552734375\n",
      "epoch 7 loss 6.620416641235352 val acc 0.854736328125\n",
      "epoch 8 loss 6.574874401092529 val acc 0.863525390625\n",
      "epoch 9 loss 6.549317359924316 val acc 0.875244140625\n"
     ]
    }
   ],
   "source": [
    "n_epochs = 100\n",
    "\n",
    "loss_running = numpy.Inf\n",
    "\n",
    "for ei in range(n_epochs):\n",
    "    for x, y in train_loader:\n",
    "        x_, y_ = x.data.numpy(), y.data.numpy()\n",
    "        loss, grad = mymodel.loss_grad(x_, y_)\n",
    "        grad = clip_norm(grad, thr=1.)\n",
    "        optim.step(grad)\n",
    "        \n",
    "        if loss_running == numpy.Inf:\n",
    "            loss_running = loss\n",
    "        else:\n",
    "            loss_running = 0.95 * loss_running + 0.05 * loss\n",
    "            \n",
    "    n_corrects = 0\n",
    "    n_all = 0\n",
    "    for x, y in val_loader:\n",
    "        x_, y_ = x.data.numpy(), y.data.numpy()\n",
    "        \n",
    "        yp = jnp.argmax(mymodel.forward(x_), -1)\n",
    "        \n",
    "        n_all = n_all + len(y_)\n",
    "        n_corrects = n_corrects + jnp.sum(y_.squeeze() == yp.squeeze())\n",
    "\n",
    "    print(F'epoch {ei+1} loss {loss_running} val acc {n_corrects/n_all}')"
   ]
  },
  {
   "cell_type": "code",
   "execution_count": null,
   "metadata": {},
   "outputs": [],
   "source": [
    "n_corrects, n_all"
   ]
  },
  {
   "cell_type": "code",
   "execution_count": 19,
   "metadata": {},
   "outputs": [
    {
     "data": {
      "text/plain": [
       "(1024,)"
      ]
     },
     "execution_count": 19,
     "metadata": {},
     "output_type": "execute_result"
    }
   ],
   "source": [
    "(y_.squeeze() == yp.squeeze()).shape"
   ]
  },
  {
   "cell_type": "code",
   "execution_count": 20,
   "metadata": {},
   "outputs": [
    {
     "data": {
      "text/plain": [
       "(256, 128, 26, 26)"
      ]
     },
     "execution_count": 20,
     "metadata": {},
     "output_type": "execute_result"
    }
   ],
   "source": [
    "lax.conv(x_, jnp.transpose(mymodel.layers[0].weight,[1,0,2,3]), (1,1), 'VALID').shape"
   ]
  },
  {
   "cell_type": "code",
   "execution_count": 20,
   "metadata": {},
   "outputs": [
    {
     "data": {
      "text/plain": [
       "(1024, 784)"
      ]
     },
     "execution_count": 20,
     "metadata": {},
     "output_type": "execute_result"
    }
   ],
   "source": [
    "x_.shape"
   ]
  },
  {
   "cell_type": "code",
   "execution_count": 21,
   "metadata": {},
   "outputs": [
    {
     "data": {
      "text/plain": [
       "array([[0., 0., 0., ..., 0., 0., 0.],\n",
       "       [0., 0., 0., ..., 0., 0., 0.],\n",
       "       [0., 0., 0., ..., 0., 0., 0.],\n",
       "       ...,\n",
       "       [0., 0., 0., ..., 0., 0., 0.],\n",
       "       [0., 0., 0., ..., 0., 0., 0.],\n",
       "       [0., 0., 0., ..., 0., 0., 0.]], dtype=float32)"
      ]
     },
     "execution_count": 21,
     "metadata": {},
     "output_type": "execute_result"
    }
   ],
   "source": [
    "x_"
   ]
  },
  {
   "cell_type": "code",
   "execution_count": null,
   "metadata": {},
   "outputs": [],
   "source": []
  }
 ],
 "metadata": {
  "kernelspec": {
   "display_name": "Python 3",
   "language": "python",
   "name": "python3"
  },
  "language_info": {
   "codemirror_mode": {
    "name": "ipython",
    "version": 3
   },
   "file_extension": ".py",
   "mimetype": "text/x-python",
   "name": "python",
   "nbconvert_exporter": "python",
   "pygments_lexer": "ipython3",
   "version": "3.7.6"
  }
 },
 "nbformat": 4,
 "nbformat_minor": 4
}

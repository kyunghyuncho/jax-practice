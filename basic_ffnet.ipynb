{
 "cells": [
  {
   "cell_type": "code",
   "execution_count": 1,
   "metadata": {},
   "outputs": [],
   "source": [
    "import numpy"
   ]
  },
  {
   "cell_type": "code",
   "execution_count": 2,
   "metadata": {},
   "outputs": [],
   "source": [
    "from jax import random as jrng\n",
    "from jax import numpy as jnp\n",
    "import jax"
   ]
  },
  {
   "cell_type": "code",
   "execution_count": 3,
   "metadata": {},
   "outputs": [],
   "source": [
    "from functools import partial"
   ]
  },
  {
   "cell_type": "code",
   "execution_count": 4,
   "metadata": {},
   "outputs": [],
   "source": [
    "from layers import Linear, ReLU, Softmax\n",
    "from model import Model\n",
    "from optimizers import SGD, Adam\n",
    "from functionals import cross_entropy"
   ]
  },
  {
   "cell_type": "code",
   "execution_count": 5,
   "metadata": {},
   "outputs": [],
   "source": [
    "from pl_bolts.datamodules import MNISTDataModule"
   ]
  },
  {
   "cell_type": "code",
   "execution_count": 6,
   "metadata": {},
   "outputs": [],
   "source": [
    "rng = jrng.PRNGKey(1234)"
   ]
  },
  {
   "cell_type": "code",
   "execution_count": 7,
   "metadata": {},
   "outputs": [],
   "source": [
    "mymodel = Model(rng, [Linear(784,512), ReLU(), Linear(512,512), ReLU(), Linear(512,10), Softmax()], loss=cross_entropy)"
   ]
  },
  {
   "cell_type": "code",
   "execution_count": 8,
   "metadata": {},
   "outputs": [],
   "source": [
    "optim = Adam(mymodel, lr=1e-5)"
   ]
  },
  {
   "cell_type": "code",
   "execution_count": 9,
   "metadata": {},
   "outputs": [],
   "source": [
    "data = MNISTDataModule('./mnist/')\n",
    "data.prepare_data()"
   ]
  },
  {
   "cell_type": "code",
   "execution_count": 10,
   "metadata": {},
   "outputs": [],
   "source": [
    "train_loader = data.train_dataloader(batch_size=256)\n",
    "val_loader = data.val_dataloader(batch_size=1024)"
   ]
  },
  {
   "cell_type": "code",
   "execution_count": null,
   "metadata": {},
   "outputs": [
    {
     "name": "stdout",
     "output_type": "stream",
     "text": [
      "epoch 1 loss 6.501333236694336 val acc 0.84814453125\n",
      "epoch 2 loss 6.3682732582092285 val acc 0.872314453125\n",
      "epoch 3 loss 6.285041809082031 val acc 0.88427734375\n",
      "epoch 4 loss 6.2357378005981445 val acc 0.891357421875\n",
      "epoch 5 loss 6.187690258026123 val acc 0.8974609375\n",
      "epoch 6 loss 6.138576030731201 val acc 0.904296875\n",
      "epoch 7 loss 6.127128601074219 val acc 0.90625\n",
      "epoch 8 loss 6.092522144317627 val acc 0.9091796875\n",
      "epoch 9 loss 6.082522869110107 val acc 0.911865234375\n",
      "epoch 10 loss 6.05191707611084 val acc 0.914794921875\n",
      "epoch 11 loss 6.02699089050293 val acc 0.9169921875\n",
      "epoch 12 loss 6.021353721618652 val acc 0.922119140625\n",
      "epoch 13 loss 5.99982213973999 val acc 0.924072265625\n",
      "epoch 14 loss 5.986532211303711 val acc 0.92578125\n",
      "epoch 15 loss 5.978908538818359 val acc 0.927490234375\n",
      "epoch 16 loss 5.968048095703125 val acc 0.928466796875\n",
      "epoch 17 loss 5.955752849578857 val acc 0.928955078125\n",
      "epoch 18 loss 5.94883918762207 val acc 0.93017578125\n",
      "epoch 19 loss 5.932291507720947 val acc 0.932861328125\n",
      "epoch 20 loss 5.933591365814209 val acc 0.93359375\n",
      "epoch 21 loss 5.919833660125732 val acc 0.935302734375\n",
      "epoch 22 loss 5.913679599761963 val acc 0.9365234375\n",
      "epoch 23 loss 5.898674488067627 val acc 0.938232421875\n",
      "epoch 24 loss 5.906613826751709 val acc 0.939208984375\n",
      "epoch 25 loss 5.882210731506348 val acc 0.94091796875\n",
      "epoch 26 loss 5.880010604858398 val acc 0.94091796875\n",
      "epoch 27 loss 5.878164768218994 val acc 0.94140625\n",
      "epoch 28 loss 5.8677568435668945 val acc 0.942138671875\n",
      "epoch 29 loss 5.863800525665283 val acc 0.94287109375\n",
      "epoch 30 loss 5.862194538116455 val acc 0.9443359375\n",
      "epoch 31 loss 5.848304271697998 val acc 0.944091796875\n",
      "epoch 32 loss 5.842334747314453 val acc 0.94580078125\n",
      "epoch 33 loss 5.844482421875 val acc 0.947021484375\n",
      "epoch 34 loss 5.832126617431641 val acc 0.94775390625\n",
      "epoch 35 loss 5.830292701721191 val acc 0.947998046875\n",
      "epoch 36 loss 5.826289176940918 val acc 0.947509765625\n",
      "epoch 37 loss 5.819005012512207 val acc 0.94921875\n",
      "epoch 38 loss 5.809947967529297 val acc 0.9501953125\n",
      "epoch 39 loss 5.811513900756836 val acc 0.9501953125\n",
      "epoch 40 loss 5.8094024658203125 val acc 0.95166015625\n",
      "epoch 41 loss 5.808175086975098 val acc 0.951416015625\n",
      "epoch 42 loss 5.801826477050781 val acc 0.952880859375\n",
      "epoch 43 loss 5.794803142547607 val acc 0.953369140625\n",
      "epoch 44 loss 5.792747974395752 val acc 0.95361328125\n",
      "epoch 45 loss 5.792564868927002 val acc 0.953369140625\n",
      "epoch 46 loss 5.786120891571045 val acc 0.952880859375\n",
      "epoch 47 loss 5.781940460205078 val acc 0.95458984375\n"
     ]
    }
   ],
   "source": [
    "n_epochs = 100\n",
    "\n",
    "loss_running = numpy.Inf\n",
    "\n",
    "for ei in range(n_epochs):\n",
    "    mymodel.train()\n",
    "    for x, y in train_loader:\n",
    "        x_, y_ = x.data.numpy(), y.data.numpy()\n",
    "        x_ = x_.reshape(x_.shape[0], -1)\n",
    "        \n",
    "        loss, grad = mymodel.loss_grad(x_, y_)\n",
    "        optim.step(grad)\n",
    "        \n",
    "        if loss_running == numpy.Inf:\n",
    "            loss_running = loss\n",
    "        else:\n",
    "            loss_running = 0.95 * loss_running + 0.05 * loss\n",
    "            \n",
    "    mymodel.eval()\n",
    "    n_corrects = 0\n",
    "    n_all = 0\n",
    "    for x, y in val_loader:\n",
    "        x_, y_ = x.data.numpy(), y.data.numpy()\n",
    "        x_ = x_.reshape(x_.shape[0], -1)\n",
    "        \n",
    "        yp = jnp.argmax(mymodel.forward(x_), -1)\n",
    "        \n",
    "        n_all = n_all + len(y_)\n",
    "        n_corrects = n_corrects + jnp.sum(y_ == yp)\n",
    "\n",
    "    print(F'epoch {ei+1} loss {loss_running} val acc {n_corrects/n_all}')"
   ]
  },
  {
   "cell_type": "code",
   "execution_count": 12,
   "metadata": {},
   "outputs": [
    {
     "data": {
      "text/plain": [
       "array([9, 0, 7, ..., 7, 5, 4])"
      ]
     },
     "execution_count": 12,
     "metadata": {},
     "output_type": "execute_result"
    }
   ],
   "source": [
    "y_"
   ]
  },
  {
   "cell_type": "code",
   "execution_count": 16,
   "metadata": {},
   "outputs": [
    {
     "data": {
      "text/plain": [
       "DeviceArray([9, 0, 9, ..., 7, 8, 4], dtype=int32)"
      ]
     },
     "execution_count": 16,
     "metadata": {},
     "output_type": "execute_result"
    }
   ],
   "source": [
    "jnp.argmax(mymodel.forward(x_), -1)"
   ]
  },
  {
   "cell_type": "code",
   "execution_count": 20,
   "metadata": {},
   "outputs": [
    {
     "data": {
      "text/plain": [
       "(1024, 784)"
      ]
     },
     "execution_count": 20,
     "metadata": {},
     "output_type": "execute_result"
    }
   ],
   "source": [
    "x_.shape"
   ]
  },
  {
   "cell_type": "code",
   "execution_count": 21,
   "metadata": {},
   "outputs": [
    {
     "data": {
      "text/plain": [
       "array([[0., 0., 0., ..., 0., 0., 0.],\n",
       "       [0., 0., 0., ..., 0., 0., 0.],\n",
       "       [0., 0., 0., ..., 0., 0., 0.],\n",
       "       ...,\n",
       "       [0., 0., 0., ..., 0., 0., 0.],\n",
       "       [0., 0., 0., ..., 0., 0., 0.],\n",
       "       [0., 0., 0., ..., 0., 0., 0.]], dtype=float32)"
      ]
     },
     "execution_count": 21,
     "metadata": {},
     "output_type": "execute_result"
    }
   ],
   "source": [
    "x_"
   ]
  },
  {
   "cell_type": "code",
   "execution_count": null,
   "metadata": {},
   "outputs": [],
   "source": []
  }
 ],
 "metadata": {
  "kernelspec": {
   "display_name": "Python 3",
   "language": "python",
   "name": "python3"
  },
  "language_info": {
   "codemirror_mode": {
    "name": "ipython",
    "version": 3
   },
   "file_extension": ".py",
   "mimetype": "text/x-python",
   "name": "python",
   "nbconvert_exporter": "python",
   "pygments_lexer": "ipython3",
   "version": "3.7.6"
  }
 },
 "nbformat": 4,
 "nbformat_minor": 4
}

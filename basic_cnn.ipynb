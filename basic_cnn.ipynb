{
 "cells": [
  {
   "cell_type": "code",
   "execution_count": 1,
   "metadata": {},
   "outputs": [],
   "source": [
    "%matplotlib widget"
   ]
  },
  {
   "cell_type": "code",
   "execution_count": 2,
   "metadata": {},
   "outputs": [],
   "source": [
    "import numpy"
   ]
  },
  {
   "cell_type": "code",
   "execution_count": 3,
   "metadata": {},
   "outputs": [],
   "source": [
    "from tqdm.notebook import trange, tqdm"
   ]
  },
  {
   "cell_type": "code",
   "execution_count": 4,
   "metadata": {},
   "outputs": [],
   "source": [
    "from jax import random as jrng\n",
    "from jax import numpy as jnp\n",
    "import jax"
   ]
  },
  {
   "cell_type": "code",
   "execution_count": 5,
   "metadata": {},
   "outputs": [],
   "source": [
    "from functools import partial"
   ]
  },
  {
   "cell_type": "code",
   "execution_count": 6,
   "metadata": {},
   "outputs": [],
   "source": [
    "from layers import Linear, Conv2d, SpatialPool2d, FakeResConv2d, MaxPool2d\n",
    "from layers import ReLU, Tanh, Softmax, LeakyReLU\n",
    "from layers import LayerNorm, BatchNorm2d, BatchNorm\n",
    "from model import Model\n",
    "from optimizers import SGD, Adam\n",
    "from functionals import cross_entropy, weight_decay, clip_norm\n",
    "from utils import flatten_dict, apply_dict, split_and_sample"
   ]
  },
  {
   "cell_type": "code",
   "execution_count": 7,
   "metadata": {},
   "outputs": [],
   "source": [
    "from pl_bolts.datamodules import MNISTDataModule, CIFAR10DataModule"
   ]
  },
  {
   "cell_type": "code",
   "execution_count": 8,
   "metadata": {},
   "outputs": [],
   "source": [
    "rng = jrng.PRNGKey(1234)"
   ]
  },
  {
   "cell_type": "code",
   "execution_count": 59,
   "metadata": {},
   "outputs": [],
   "source": [
    "''' MNIST '''\n",
    "data = MNISTDataModule('./mnist/')\n",
    "\n",
    "# ''' CIFAR-10 '''\n",
    "# data = CIFAR10DataModule('./cifar-10/')\n",
    "\n",
    "data.prepare_data()"
   ]
  },
  {
   "cell_type": "code",
   "execution_count": 60,
   "metadata": {},
   "outputs": [],
   "source": [
    "train_loader = data.train_dataloader(batch_size=64)\n",
    "val_loader = data.val_dataloader(batch_size=64)"
   ]
  },
  {
   "cell_type": "code",
   "execution_count": 65,
   "metadata": {},
   "outputs": [],
   "source": [
    "''' use the model below for MNIST'''\n",
    "mymodel = Model(rng, [Conv2d(5,5,1,128, mode='SAME'), \n",
    "                      FakeResConv2d(5,5,128,128, mode='SAME'), BatchNorm2d(128), LeakyReLU(), \n",
    "                      FakeResConv2d(5,5,128,128, mode='SAME'), BatchNorm2d(128), LeakyReLU(), \n",
    "                      MaxPool2d(2,2), \n",
    "                      Conv2d(1,1,128,256, mode='SAME'), \n",
    "                      BatchNorm2d(256),\n",
    "                      FakeResConv2d(5,5,256,256, mode='SAME'), BatchNorm2d(256), LeakyReLU(),\n",
    "                      FakeResConv2d(5,5,256,256, mode='SAME'), BatchNorm2d(256), LeakyReLU(),\n",
    "                      SpatialPool2d(), \n",
    "                      Linear(256,1024), \n",
    "                      BatchNorm(1024), LeakyReLU(),\n",
    "                      Linear(1024,10),\n",
    "                      Softmax()], \n",
    "                loss=[(cross_entropy, 1.)])\n",
    "\n",
    "''' use the model below for CIFAR-10 '''\n",
    "# mymodel = Model(rng, [Conv2d(5,5,3,128, mode='SAME'), \n",
    "#                       FakeResConv2d(5,5,128,128, mode='SAME'), BatchNorm2d(128), LeakyReLU(), \n",
    "#                       FakeResConv2d(5,5,128,128, mode='SAME'), BatchNorm2d(128), LeakyReLU(), \n",
    "#                       MaxPool2d(2,2), \n",
    "#                       Conv2d(1,1,128,256, mode='SAME'), \n",
    "#                       BatchNorm2d(256),\n",
    "#                       FakeResConv2d(5,5,256,256, mode='SAME'), BatchNorm2d(256), LeakyReLU(),\n",
    "#                       FakeResConv2d(5,5,256,256, mode='SAME'), BatchNorm2d(256), LeakyReLU(),\n",
    "#                       MaxPool2d(2,2), \n",
    "#                       Conv2d(1,1,256,512, mode='SAME'), \n",
    "#                       BatchNorm2d(512),\n",
    "#                       FakeResConv2d(5,5,512,512, mode='SAME'), BatchNorm2d(512), LeakyReLU(),\n",
    "#                       FakeResConv2d(5,5,512,512, mode='SAME'), BatchNorm2d(512), LeakyReLU(),\n",
    "#                       SpatialPool2d(), \n",
    "#                       Linear(512,1024), \n",
    "#                       BatchNorm(1024), LeakyReLU(),\n",
    "#                       Linear(1024,10),\n",
    "#                       Softmax()], \n",
    "#                 loss=[(cross_entropy, 1.)])#, (weight_decay, 1e-5)])"
   ]
  },
  {
   "cell_type": "code",
   "execution_count": 66,
   "metadata": {},
   "outputs": [],
   "source": [
    "optim = Adam(mymodel, lr=1e-4)"
   ]
  },
  {
   "cell_type": "code",
   "execution_count": 67,
   "metadata": {},
   "outputs": [],
   "source": [
    "n_devices = len(jax.devices())"
   ]
  },
  {
   "cell_type": "code",
   "execution_count": null,
   "metadata": {},
   "outputs": [
    {
     "data": {
      "application/vnd.jupyter.widget-view+json": {
       "model_id": "11cfb25d6b6f4169836807ad34f40579",
       "version_major": 2,
       "version_minor": 0
      },
      "text/plain": [
       "HBox(children=(FloatProgress(value=0.0, max=859.0), HTML(value='')))"
      ]
     },
     "metadata": {},
     "output_type": "display_data"
    },
    {
     "name": "stdout",
     "output_type": "stream",
     "text": [
      "\n"
     ]
    },
    {
     "data": {
      "application/vnd.jupyter.widget-view+json": {
       "model_id": "36aa3a59b6a64bc1bfb3693e641f43e3",
       "version_major": 2,
       "version_minor": 0
      },
      "text/plain": [
       "HBox(children=(FloatProgress(value=0.0, max=78.0), HTML(value='')))"
      ]
     },
     "metadata": {},
     "output_type": "display_data"
    },
    {
     "name": "stdout",
     "output_type": "stream",
     "text": [
      "\n",
      "epoch 1 loss 4.296900749206543 val acc 0.9899839758872986\n"
     ]
    },
    {
     "data": {
      "application/vnd.jupyter.widget-view+json": {
       "model_id": "955d0be560e943878e5139f9df07667f",
       "version_major": 2,
       "version_minor": 0
      },
      "text/plain": [
       "HBox(children=(FloatProgress(value=0.0, max=859.0), HTML(value='')))"
      ]
     },
     "metadata": {},
     "output_type": "display_data"
    }
   ],
   "source": [
    "n_epochs = 100\n",
    "\n",
    "loss_running = numpy.Inf\n",
    "\n",
    "for ei in range(n_epochs):    \n",
    "    mymodel.train()\n",
    "    tloader = tqdm(train_loader)\n",
    "    for x, y in tloader:\n",
    "        x_, y_ = x.data.numpy(), y.data.numpy()\n",
    "        \n",
    "        loss, grad = mymodel.loss_grad(x_, y_)\n",
    "        \n",
    "        grad = clip_norm(grad, thr=1.)\n",
    "        optim.step(grad)\n",
    "        \n",
    "        if loss_running == numpy.Inf:\n",
    "            loss_running = loss\n",
    "        else:\n",
    "            loss_running = 0.95 * loss_running + 0.05 * loss\n",
    "            \n",
    "        tloader.set_postfix(dict([('loss', loss_running)]))\n",
    "            \n",
    "    mymodel.eval()\n",
    "    n_corrects = 0\n",
    "    n_all = 0\n",
    "    tloader = tqdm(val_loader)\n",
    "    for x, y in tloader:\n",
    "        x_, y_ = x.data.numpy(), y.data.numpy()\n",
    "        \n",
    "        yp = jnp.argmax(mymodel.forward(x_), -1)\n",
    "        \n",
    "        n_all = n_all + len(y_)\n",
    "        n_corrects = n_corrects + jnp.sum(y_.squeeze() == yp.squeeze())\n",
    "        \n",
    "        tloader.set_postfix(dict([('acc', n_corrects/n_all)]))\n",
    "\n",
    "    print(F'epoch {ei+1} loss {loss_running} val acc {n_corrects/n_all}')"
   ]
  },
  {
   "cell_type": "code",
   "execution_count": 15,
   "metadata": {},
   "outputs": [],
   "source": [
    "from matplotlib import pyplot as plot\n",
    "from matplotlib import cm"
   ]
  },
  {
   "cell_type": "code",
   "execution_count": 16,
   "metadata": {},
   "outputs": [],
   "source": [
    "weight = mymodel.params[mymodel.layers[0].name]['weight']\n",
    "# weight = mymodel.layers[0].weight"
   ]
  },
  {
   "cell_type": "code",
   "execution_count": 56,
   "metadata": {},
   "outputs": [],
   "source": [
    "weight_ = weight.reshape(weight.shape[0], -1)\n",
    "weight_ = weight_ - weight_.min(1)[:, None]\n",
    "weight_ = weight_ / weight_.max(1)[:, None]\n",
    "weight = weight_.reshape(weight.shape)"
   ]
  },
  {
   "cell_type": "code",
   "execution_count": 57,
   "metadata": {},
   "outputs": [],
   "source": [
    "fn = weight.shape[0]\n",
    "w = int(numpy.ceil(numpy.sqrt(fn)))\n",
    "h = int(numpy.ceil(float(fn) / w))\n",
    "filter_canvas = numpy.zeros((w * (1+weight.shape[-1]), h * (1+weight.shape[-2]), 3))\n",
    "\n",
    "for fid in range(fn):\n",
    "    ri = fid // w\n",
    "    ci = fid % w\n",
    "    filter_canvas[ci * (weight.shape[-1]+1):(ci+1) * (weight.shape[-1]+1)-1,\n",
    "                 ri * (weight.shape[-2]+1):(ri+1) * (weight.shape[-2]+1)-1, :] = numpy.transpose(weight[fid], [1, 2, 0])"
   ]
  },
  {
   "cell_type": "code",
   "execution_count": 58,
   "metadata": {},
   "outputs": [
    {
     "data": {
      "application/vnd.jupyter.widget-view+json": {
       "model_id": "1aece5646dc14828a556b70c5f8e253f",
       "version_major": 2,
       "version_minor": 0
      },
      "text/plain": [
       "Canvas(toolbar=Toolbar(toolitems=[('Home', 'Reset original view', 'home', 'home'), ('Back', 'Back to previous …"
      ]
     },
     "metadata": {},
     "output_type": "display_data"
    },
    {
     "name": "stderr",
     "output_type": "stream",
     "text": [
      "WARNING:matplotlib.image:Clipping input data to the valid range for imshow with RGB data ([0..1] for floats or [0..255] for integers).\n"
     ]
    }
   ],
   "source": [
    "plot.figure()\n",
    "\n",
    "plot.imshow(filter_canvas, cmap=cm.gray)\n",
    "\n",
    "plot.axis(False)\n",
    "\n",
    "plot.show()"
   ]
  }
 ],
 "metadata": {
  "kernelspec": {
   "display_name": "Python 3",
   "language": "python",
   "name": "python3"
  },
  "language_info": {
   "codemirror_mode": {
    "name": "ipython",
    "version": 3
   },
   "file_extension": ".py",
   "mimetype": "text/x-python",
   "name": "python",
   "nbconvert_exporter": "python",
   "pygments_lexer": "ipython3",
   "version": "3.7.6"
  }
 },
 "nbformat": 4,
 "nbformat_minor": 4
}

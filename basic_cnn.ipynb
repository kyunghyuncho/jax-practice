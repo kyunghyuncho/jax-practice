{
 "cells": [
  {
   "cell_type": "code",
   "execution_count": 1,
   "metadata": {},
   "outputs": [],
   "source": [
    "%matplotlib widget"
   ]
  },
  {
   "cell_type": "code",
   "execution_count": 2,
   "metadata": {},
   "outputs": [],
   "source": [
    "import numpy"
   ]
  },
  {
   "cell_type": "code",
   "execution_count": 3,
   "metadata": {},
   "outputs": [],
   "source": [
    "from tqdm.notebook import trange, tqdm"
   ]
  },
  {
   "cell_type": "code",
   "execution_count": 4,
   "metadata": {},
   "outputs": [],
   "source": [
    "from jax import random as jrng\n",
    "from jax import numpy as jnp\n",
    "import jax"
   ]
  },
  {
   "cell_type": "code",
   "execution_count": 5,
   "metadata": {},
   "outputs": [],
   "source": [
    "from functools import partial"
   ]
  },
  {
   "cell_type": "code",
   "execution_count": 6,
   "metadata": {},
   "outputs": [],
   "source": [
    "from layers import Linear, Conv2d, SpatialPool2d, FakeResConv2d, MaxPool2d\n",
    "from layers import ReLU, Tanh, Softmax, LeakyReLU\n",
    "from layers import LayerNorm, BatchNorm2d, BatchNorm\n",
    "from model import Model\n",
    "from optimizers import SGD, Adam\n",
    "from functionals import cross_entropy, weight_decay, clip_norm\n",
    "from utils import flatten_dict, apply_dict, split_and_sample"
   ]
  },
  {
   "cell_type": "code",
   "execution_count": 7,
   "metadata": {},
   "outputs": [],
   "source": [
    "from pl_bolts.datamodules import MNISTDataModule, CIFAR10DataModule"
   ]
  },
  {
   "cell_type": "code",
   "execution_count": 8,
   "metadata": {},
   "outputs": [],
   "source": [
    "rng = jrng.PRNGKey(1234)"
   ]
  },
  {
   "cell_type": "code",
   "execution_count": 9,
   "metadata": {},
   "outputs": [
    {
     "name": "stdout",
     "output_type": "stream",
     "text": [
      "Files already downloaded and verified\n",
      "Files already downloaded and verified\n"
     ]
    }
   ],
   "source": [
    "data = MNISTDataModule('./mnist/')\n",
    "data = CIFAR10DataModule('./cifar-10/')\n",
    "data.prepare_data()"
   ]
  },
  {
   "cell_type": "code",
   "execution_count": 10,
   "metadata": {},
   "outputs": [],
   "source": [
    "train_loader = data.train_dataloader(batch_size=64)\n",
    "val_loader = data.val_dataloader(batch_size=64)"
   ]
  },
  {
   "cell_type": "code",
   "execution_count": 11,
   "metadata": {},
   "outputs": [],
   "source": [
    "mymodel = Model(rng, [Conv2d(3,3,3,64, mode='SAME'), BatchNorm2d(64), LeakyReLU(), \n",
    "                      FakeResConv2d(5,5,64,64, mode='SAME'), BatchNorm2d(64), LeakyReLU(), \n",
    "                      FakeResConv2d(5,5,64,64, mode='SAME'), BatchNorm2d(64), LeakyReLU(), \n",
    "                      MaxPool2d(2,2), \n",
    "                      Conv2d(1,1,64,128, mode='SAME'), BatchNorm2d(128), LeakyReLU(), \n",
    "                      FakeResConv2d(5,5,128,128, mode='SAME'), \n",
    "                      MaxPool2d(2,2), \n",
    "                      Conv2d(1,1,128,256, mode='SAME'), BatchNorm2d(256), LeakyReLU(), \n",
    "                      SpatialPool2d(), \n",
    "                      Linear(256,256), \n",
    "                      BatchNorm(256), LeakyReLU(),\n",
    "                      Linear(256,10),\n",
    "                      Softmax()], \n",
    "                loss=[(cross_entropy, 1.)])#, (weight_decay, 1e-5)])\n",
    "# mymodel = Model(rng, [Conv2d(7,7,1,256), ReLU(), \n",
    "#                       Conv2d(7,7,256,256), ReLU(), \n",
    "#                       Conv2d(7,7,256,256), ReLU(), \n",
    "#                       SpatialPool2d(), Linear(256,10), \n",
    "#                       Softmax()], \n",
    "#                 loss=[(cross_entropy, 1.)])"
   ]
  },
  {
   "cell_type": "code",
   "execution_count": 12,
   "metadata": {},
   "outputs": [],
   "source": [
    "optim = Adam(mymodel, lr=1e-2)"
   ]
  },
  {
   "cell_type": "code",
   "execution_count": 13,
   "metadata": {},
   "outputs": [],
   "source": [
    "n_devices = len(jax.devices())"
   ]
  },
  {
   "cell_type": "code",
   "execution_count": null,
   "metadata": {},
   "outputs": [
    {
     "data": {
      "application/vnd.jupyter.widget-view+json": {
       "model_id": "916d4b7823004af2a4d5d09dd6fedd26",
       "version_major": 2,
       "version_minor": 0
      },
      "text/plain": [
       "HBox(children=(FloatProgress(value=0.0, max=703.0), HTML(value='')))"
      ]
     },
     "metadata": {},
     "output_type": "display_data"
    },
    {
     "name": "stderr",
     "output_type": "stream",
     "text": [
      "/home/kcho/repo/jax/jax/numpy/lax_numpy.py:1651: FutureWarning: jax.numpy reductions won't accept lists and tuples in future versions, only scalars and ndarrays\n",
      "  warnings.warn(msg, category=FutureWarning)\n"
     ]
    }
   ],
   "source": [
    "n_epochs = 100\n",
    "\n",
    "loss_running = numpy.Inf\n",
    "\n",
    "for ei in range(n_epochs):    \n",
    "    mymodel.train()\n",
    "    tloader = tqdm(train_loader)\n",
    "    for x, y in tloader:\n",
    "        x_, y_ = x.data.numpy(), y.data.numpy()\n",
    "        \n",
    "        loss, grad = mymodel.loss_grad(x_, y_)\n",
    "        \n",
    "        grad = clip_norm(grad, thr=1.)\n",
    "        optim.step(grad)\n",
    "        \n",
    "        if loss_running == numpy.Inf:\n",
    "            loss_running = loss\n",
    "        else:\n",
    "            loss_running = 0.95 * loss_running + 0.05 * loss\n",
    "            \n",
    "        tloader.set_postfix(dict([('loss', loss_running)]))\n",
    "            \n",
    "    mymodel.eval()\n",
    "    n_corrects = 0\n",
    "    n_all = 0\n",
    "    tloader = tqdm(val_loader)\n",
    "    for x, y in tloader:\n",
    "        x_, y_ = x.data.numpy(), y.data.numpy()\n",
    "        \n",
    "        yp = jnp.argmax(mymodel.forward(x_), -1)\n",
    "        \n",
    "        n_all = n_all + len(y_)\n",
    "        n_corrects = n_corrects + jnp.sum(y_.squeeze() == yp.squeeze())\n",
    "        \n",
    "        tloader.set_postfix(dict([('acc', n_corrects/n_all)]))\n",
    "\n",
    "    print(F'epoch {ei+1} loss {loss_running} val acc {n_corrects/n_all}')"
   ]
  },
  {
   "cell_type": "code",
   "execution_count": null,
   "metadata": {},
   "outputs": [],
   "source": [
    "from matplotlib import pyplot as plot\n",
    "from matplotlib import cm"
   ]
  },
  {
   "cell_type": "code",
   "execution_count": 48,
   "metadata": {},
   "outputs": [],
   "source": [
    "weight = mymodel.params[mymodel.layers[0].name]['weight']\n",
    "# weight = mymodel.layers[0].weight"
   ]
  },
  {
   "cell_type": "code",
   "execution_count": 49,
   "metadata": {},
   "outputs": [],
   "source": [
    "fn = weight.shape[0]\n",
    "w = int(numpy.ceil(numpy.sqrt(fn)))\n",
    "h = int(fn // w)\n",
    "filter_canvas = numpy.zeros((w * (1+weight.shape[-1]), h * (1+weight.shape[-2]), 3))\n",
    "\n",
    "for fid in range(fn):\n",
    "    ri = fid // w\n",
    "    ci = fid % w\n",
    "    filter_canvas[ri * (weight.shape[-1]+1):(ri+1) * (weight.shape[-1]+1)-1,\n",
    "                 ci * (weight.shape[-2]+1):(ci+1) * (weight.shape[-2]+1)-1, :] = numpy.transpose(weight[fid], [1, 2, 0])"
   ]
  },
  {
   "cell_type": "code",
   "execution_count": 50,
   "metadata": {},
   "outputs": [
    {
     "data": {
      "application/vnd.jupyter.widget-view+json": {
       "model_id": "94bb9aa175b24a1a8027c18fa1f026ac",
       "version_major": 2,
       "version_minor": 0
      },
      "text/plain": [
       "Canvas(toolbar=Toolbar(toolitems=[('Home', 'Reset original view', 'home', 'home'), ('Back', 'Back to previous …"
      ]
     },
     "metadata": {},
     "output_type": "display_data"
    },
    {
     "name": "stderr",
     "output_type": "stream",
     "text": [
      "WARNING:matplotlib.image:Clipping input data to the valid range for imshow with RGB data ([0..1] for floats or [0..255] for integers).\n"
     ]
    }
   ],
   "source": [
    "plot.figure()\n",
    "\n",
    "plot.imshow(filter_canvas, cmap=cm.gray)\n",
    "\n",
    "plot.axis(False)\n",
    "\n",
    "plot.show()"
   ]
  },
  {
   "cell_type": "code",
   "execution_count": 51,
   "metadata": {},
   "outputs": [
    {
     "data": {
      "text/plain": [
       "(64, 3, 1, 1)"
      ]
     },
     "execution_count": 51,
     "metadata": {},
     "output_type": "execute_result"
    }
   ],
   "source": [
    "weight.shape"
   ]
  },
  {
   "cell_type": "code",
   "execution_count": null,
   "metadata": {},
   "outputs": [],
   "source": []
  }
 ],
 "metadata": {
  "kernelspec": {
   "display_name": "Python 3",
   "language": "python",
   "name": "python3"
  },
  "language_info": {
   "codemirror_mode": {
    "name": "ipython",
    "version": 3
   },
   "file_extension": ".py",
   "mimetype": "text/x-python",
   "name": "python",
   "nbconvert_exporter": "python",
   "pygments_lexer": "ipython3",
   "version": "3.7.6"
  }
 },
 "nbformat": 4,
 "nbformat_minor": 4
}
